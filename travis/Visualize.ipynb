{
  "nbformat": 4,
  "nbformat_minor": 0,
  "metadata": {
    "colab": {
      "name": "Visualize.ipynb",
      "provenance": [],
      "collapsed_sections": [],
      "authorship_tag": "ABX9TyO8UCuKlGVEFvhLv5WPDr0b",
      "include_colab_link": true
    },
    "kernelspec": {
      "name": "python3",
      "display_name": "Python 3"
    }
  },
  "cells": [
    {
      "cell_type": "markdown",
      "metadata": {
        "id": "view-in-github",
        "colab_type": "text"
      },
      "source": [
        "<a href=\"https://colab.research.google.com/github/adamschmideg/ethereum/blob/master/travis/Visualize.ipynb\" target=\"_parent\"><img src=\"https://colab.research.google.com/assets/colab-badge.svg\" alt=\"Open In Colab\"/></a>"
      ]
    },
    {
      "cell_type": "code",
      "metadata": {
        "id": "1nTsVheGnX50",
        "colab_type": "code",
        "colab": {}
      },
      "source": [
        "import pandas as pd\n",
        "import matplotlib.pyplot as plt\n",
        "from matplotlib.pyplot import figure"
      ],
      "execution_count": 0,
      "outputs": []
    },
    {
      "cell_type": "code",
      "metadata": {
        "id": "aC2nVp0B9_kz",
        "colab_type": "code",
        "colab": {}
      },
      "source": [
        "url = \"https://raw.githubusercontent.com/adamschmideg/ethereum/master/travis/data/\"\n",
        "converters = {'StartedAt': pd.to_datetime, 'FinishedAt': pd.to_datetime}\n",
        "builds = pd.read_csv(url + \"builds.csv\", converters=converters)\n",
        "jobs = pd.read_csv(url + \"jobs.csv\", converters=converters)\n",
        "failures = pd.read_csv(url + \"failures.csv\")"
      ],
      "execution_count": 0,
      "outputs": []
    },
    {
      "cell_type": "code",
      "metadata": {
        "id": "ojMeJ_7aoQ-M",
        "colab_type": "code",
        "colab": {}
      },
      "source": [
        "bj = pd.merge(builds, jobs, left_on=\"Id\", right_on=\"BuildId\", suffixes=(\"_Build\", \"_Job\"))\n",
        "full = pd.merge(bj, failures, left_on=\"Id_Job\", right_on=\"JobId\")"
      ],
      "execution_count": 0,
      "outputs": []
    },
    {
      "cell_type": "markdown",
      "metadata": {
        "id": "K7OLI00TQua9",
        "colab_type": "text"
      },
      "source": [
        "Filter rows with a failed job that belong to builds where it was pushed to master"
      ]
    },
    {
      "cell_type": "code",
      "metadata": {
        "id": "BFd-scg2QSaL",
        "colab_type": "code",
        "colab": {}
      },
      "source": [
        "cutoff_date = '2020-03-16'\n"
      ],
      "execution_count": 0,
      "outputs": []
    },
    {
      "cell_type": "code",
      "metadata": {
        "id": "rPjDgsI5Crd1",
        "colab_type": "code",
        "colab": {
          "base_uri": "https://localhost:8080/",
          "height": 51
        },
        "outputId": "03b348f7-ccd1-44cc-e554-04d6a1a52339"
      },
      "source": [
        "df = full[['Test', 'PullRequestNumber']].groupby(by='Test').nunique()\n",
        "not_one_pr = df[df.PullRequestNumber.ne(1)].Test.keys().values\n",
        "df = full[full.StartedAt_Build >= cutoff_date] \\\n",
        "    [full.State_Job != \"passed\"] \\\n",
        "    [full.Test.isin(not_one_pr)]\n"
      ],
      "execution_count": 16,
      "outputs": [
        {
          "output_type": "stream",
          "text": [
            "/usr/local/lib/python3.6/dist-packages/ipykernel_launcher.py:3: UserWarning: Boolean Series key will be reindexed to match DataFrame index.\n",
            "  This is separate from the ipykernel package so we can avoid doing imports until\n"
          ],
          "name": "stderr"
        }
      ]
    },
    {
      "cell_type": "code",
      "metadata": {
        "id": "KznSH_sDJAxL",
        "colab_type": "code",
        "outputId": "7d5ceb0f-ded2-4eab-fee9-21b69f5a937b",
        "colab": {
          "base_uri": "https://localhost:8080/",
          "height": 700
        }
      },
      "source": [
        "flaky = df[['Package', 'Test', 'Id_Job']] \\\n",
        "    .groupby(['Test']) \\\n",
        "    .agg({'Id_Job': ['first', 'count']})\n",
        "flaky.columns = ['JobId', 'Count']\n",
        "flaky.reset_index()\n",
        "flaky['url'] = flaky.apply(lambda row: 'https://travis-ci.org/github/ethereum/go-ethereum/jobs/{}'.format(row.JobId), axis=1)\n",
        "flaky = flaky.sort_values(['Count'], ascending=False)\n",
        "pd.options.display.max_colwidth = 260\n",
        "flaky.head(20)"
      ],
      "execution_count": 17,
      "outputs": [
        {
          "output_type": "execute_result",
          "data": {
            "text/html": [
              "<div>\n",
              "<style scoped>\n",
              "    .dataframe tbody tr th:only-of-type {\n",
              "        vertical-align: middle;\n",
              "    }\n",
              "\n",
              "    .dataframe tbody tr th {\n",
              "        vertical-align: top;\n",
              "    }\n",
              "\n",
              "    .dataframe thead th {\n",
              "        text-align: right;\n",
              "    }\n",
              "</style>\n",
              "<table border=\"1\" class=\"dataframe\">\n",
              "  <thead>\n",
              "    <tr style=\"text-align: right;\">\n",
              "      <th></th>\n",
              "      <th>JobId</th>\n",
              "      <th>Count</th>\n",
              "      <th>url</th>\n",
              "    </tr>\n",
              "    <tr>\n",
              "      <th>Test</th>\n",
              "      <th></th>\n",
              "      <th></th>\n",
              "      <th></th>\n",
              "    </tr>\n",
              "  </thead>\n",
              "  <tbody>\n",
              "    <tr>\n",
              "      <th>TestTimerFunc</th>\n",
              "      <td>669160780</td>\n",
              "      <td>13</td>\n",
              "      <td>https://travis-ci.org/github/ethereum/go-ethereum/jobs/669160780</td>\n",
              "    </tr>\n",
              "    <tr>\n",
              "      <th>TestBoundedHeavyForkedSync63Fast</th>\n",
              "      <td>669570148</td>\n",
              "      <td>12</td>\n",
              "      <td>https://travis-ci.org/github/ethereum/go-ethereum/jobs/669570148</td>\n",
              "    </tr>\n",
              "    <tr>\n",
              "      <th>TestBroadcastBlock</th>\n",
              "      <td>669289371</td>\n",
              "      <td>12</td>\n",
              "      <td>https://travis-ci.org/github/ethereum/go-ethereum/jobs/669289371</td>\n",
              "    </tr>\n",
              "    <tr>\n",
              "      <th>TestBoundedHeavyForkedSync64Fast</th>\n",
              "      <td>668816462</td>\n",
              "      <td>8</td>\n",
              "      <td>https://travis-ci.org/github/ethereum/go-ethereum/jobs/668816462</td>\n",
              "    </tr>\n",
              "    <tr>\n",
              "      <th>TestBoundedForkedSync63Fast</th>\n",
              "      <td>669527255</td>\n",
              "      <td>5</td>\n",
              "      <td>https://travis-ci.org/github/ethereum/go-ethereum/jobs/669527255</td>\n",
              "    </tr>\n",
              "    <tr>\n",
              "      <th>TestHandshake</th>\n",
              "      <td>669132706</td>\n",
              "      <td>5</td>\n",
              "      <td>https://travis-ci.org/github/ethereum/go-ethereum/jobs/669132706</td>\n",
              "    </tr>\n",
              "    <tr>\n",
              "      <th>TestCustomGenesis</th>\n",
              "      <td>667148875</td>\n",
              "      <td>5</td>\n",
              "      <td>https://travis-ci.org/github/ethereum/go-ethereum/jobs/667148875</td>\n",
              "    </tr>\n",
              "    <tr>\n",
              "      <th>TestState</th>\n",
              "      <td>662976951</td>\n",
              "      <td>5</td>\n",
              "      <td>https://travis-ci.org/github/ethereum/go-ethereum/jobs/662976951</td>\n",
              "    </tr>\n",
              "    <tr>\n",
              "      <th>TestBoundedForkedSync64Fast</th>\n",
              "      <td>669534995</td>\n",
              "      <td>5</td>\n",
              "      <td>https://travis-ci.org/github/ethereum/go-ethereum/jobs/669534995</td>\n",
              "    </tr>\n",
              "    <tr>\n",
              "      <th>TestInvalidNumberAnnouncement62</th>\n",
              "      <td>669666381</td>\n",
              "      <td>5</td>\n",
              "      <td>https://travis-ci.org/github/ethereum/go-ethereum/jobs/669666381</td>\n",
              "    </tr>\n",
              "    <tr>\n",
              "      <th>TestUDPv4_findnode</th>\n",
              "      <td>668816459</td>\n",
              "      <td>4</td>\n",
              "      <td>https://travis-ci.org/github/ethereum/go-ethereum/jobs/668816459</td>\n",
              "    </tr>\n",
              "    <tr>\n",
              "      <th>TestInvalidNumberAnnouncement64</th>\n",
              "      <td>668656942</td>\n",
              "      <td>4</td>\n",
              "      <td>https://travis-ci.org/github/ethereum/go-ethereum/jobs/668656942</td>\n",
              "    </tr>\n",
              "    <tr>\n",
              "      <th>TestHTTPNodeRPC</th>\n",
              "      <td>668643433</td>\n",
              "      <td>3</td>\n",
              "      <td>https://travis-ci.org/github/ethereum/go-ethereum/jobs/668643433</td>\n",
              "    </tr>\n",
              "    <tr>\n",
              "      <th>TestWSAttachWelcome</th>\n",
              "      <td>667142518</td>\n",
              "      <td>3</td>\n",
              "      <td>https://travis-ci.org/github/ethereum/go-ethereum/jobs/667142518</td>\n",
              "    </tr>\n",
              "    <tr>\n",
              "      <th>TestIPCAttachWelcome</th>\n",
              "      <td>667142518</td>\n",
              "      <td>3</td>\n",
              "      <td>https://travis-ci.org/github/ethereum/go-ethereum/jobs/667142518</td>\n",
              "    </tr>\n",
              "    <tr>\n",
              "      <th>TestUnlockFlagPasswordFileWrongPassword</th>\n",
              "      <td>667142518</td>\n",
              "      <td>3</td>\n",
              "      <td>https://travis-ci.org/github/ethereum/go-ethereum/jobs/667142518</td>\n",
              "    </tr>\n",
              "    <tr>\n",
              "      <th>TestUnlockFlagPasswordFile</th>\n",
              "      <td>667142518</td>\n",
              "      <td>3</td>\n",
              "      <td>https://travis-ci.org/github/ethereum/go-ethereum/jobs/667142518</td>\n",
              "    </tr>\n",
              "    <tr>\n",
              "      <th>TestUnlockFlagAmbiguousWrongPassword</th>\n",
              "      <td>667142518</td>\n",
              "      <td>3</td>\n",
              "      <td>https://travis-ci.org/github/ethereum/go-ethereum/jobs/667142518</td>\n",
              "    </tr>\n",
              "    <tr>\n",
              "      <th>TestHTTPAttachWelcome</th>\n",
              "      <td>667142518</td>\n",
              "      <td>3</td>\n",
              "      <td>https://travis-ci.org/github/ethereum/go-ethereum/jobs/667142518</td>\n",
              "    </tr>\n",
              "    <tr>\n",
              "      <th>TestFakedSyncProgress62</th>\n",
              "      <td>667601540</td>\n",
              "      <td>3</td>\n",
              "      <td>https://travis-ci.org/github/ethereum/go-ethereum/jobs/667601540</td>\n",
              "    </tr>\n",
              "  </tbody>\n",
              "</table>\n",
              "</div>"
            ],
            "text/plain": [
              "                                             JobId  ...                                                               url\n",
              "Test                                                ...                                                                  \n",
              "TestTimerFunc                            669160780  ...  https://travis-ci.org/github/ethereum/go-ethereum/jobs/669160780\n",
              "TestBoundedHeavyForkedSync63Fast         669570148  ...  https://travis-ci.org/github/ethereum/go-ethereum/jobs/669570148\n",
              "TestBroadcastBlock                       669289371  ...  https://travis-ci.org/github/ethereum/go-ethereum/jobs/669289371\n",
              "TestBoundedHeavyForkedSync64Fast         668816462  ...  https://travis-ci.org/github/ethereum/go-ethereum/jobs/668816462\n",
              "TestBoundedForkedSync63Fast              669527255  ...  https://travis-ci.org/github/ethereum/go-ethereum/jobs/669527255\n",
              "TestHandshake                            669132706  ...  https://travis-ci.org/github/ethereum/go-ethereum/jobs/669132706\n",
              "TestCustomGenesis                        667148875  ...  https://travis-ci.org/github/ethereum/go-ethereum/jobs/667148875\n",
              "TestState                                662976951  ...  https://travis-ci.org/github/ethereum/go-ethereum/jobs/662976951\n",
              "TestBoundedForkedSync64Fast              669534995  ...  https://travis-ci.org/github/ethereum/go-ethereum/jobs/669534995\n",
              "TestInvalidNumberAnnouncement62          669666381  ...  https://travis-ci.org/github/ethereum/go-ethereum/jobs/669666381\n",
              "TestUDPv4_findnode                       668816459  ...  https://travis-ci.org/github/ethereum/go-ethereum/jobs/668816459\n",
              "TestInvalidNumberAnnouncement64          668656942  ...  https://travis-ci.org/github/ethereum/go-ethereum/jobs/668656942\n",
              "TestHTTPNodeRPC                          668643433  ...  https://travis-ci.org/github/ethereum/go-ethereum/jobs/668643433\n",
              "TestWSAttachWelcome                      667142518  ...  https://travis-ci.org/github/ethereum/go-ethereum/jobs/667142518\n",
              "TestIPCAttachWelcome                     667142518  ...  https://travis-ci.org/github/ethereum/go-ethereum/jobs/667142518\n",
              "TestUnlockFlagPasswordFileWrongPassword  667142518  ...  https://travis-ci.org/github/ethereum/go-ethereum/jobs/667142518\n",
              "TestUnlockFlagPasswordFile               667142518  ...  https://travis-ci.org/github/ethereum/go-ethereum/jobs/667142518\n",
              "TestUnlockFlagAmbiguousWrongPassword     667142518  ...  https://travis-ci.org/github/ethereum/go-ethereum/jobs/667142518\n",
              "TestHTTPAttachWelcome                    667142518  ...  https://travis-ci.org/github/ethereum/go-ethereum/jobs/667142518\n",
              "TestFakedSyncProgress62                  667601540  ...  https://travis-ci.org/github/ethereum/go-ethereum/jobs/667601540\n",
              "\n",
              "[20 rows x 3 columns]"
            ]
          },
          "metadata": {
            "tags": []
          },
          "execution_count": 17
        }
      ]
    },
    {
      "cell_type": "markdown",
      "metadata": {
        "id": "uTpPhr1Fkxlm",
        "colab_type": "text"
      },
      "source": [
        "## Number of failing tests by date"
      ]
    },
    {
      "cell_type": "code",
      "metadata": {
        "id": "zPX8rQ5ckrCK",
        "colab_type": "code",
        "colab": {}
      },
      "source": [
        "failures_by_date = full[full.State_Job.eq('failed') & full.EventType.eq('push') & full.State_Job.gt(cutoff_date)][['Id_Build']].groupby(by=full.StartedAt_Build.dt.week).count().sort_values(by='StartedAt_Build', ascending=True)"
      ],
      "execution_count": 0,
      "outputs": []
    },
    {
      "cell_type": "code",
      "metadata": {
        "id": "G-_3c1Y2ltMV",
        "colab_type": "code",
        "outputId": "4a4af8de-c1e4-4f62-9b0c-de93f3e1a88c",
        "colab": {
          "base_uri": "https://localhost:8080/",
          "height": 297
        }
      },
      "source": [
        "# figure(num=None, figsize=(12, 6), dpi=80, facecolor='w', edgecolor='k')\n",
        "fig = plt.gcf()\n",
        "fig.set_size_inches(18.5, 10.5, forward=True)\n",
        "failures_by_date.plot()\n",
        "plt.show()"
      ],
      "execution_count": 19,
      "outputs": [
        {
          "output_type": "display_data",
          "data": {
            "text/plain": [
              "<Figure size 1332x756 with 0 Axes>"
            ]
          },
          "metadata": {
            "tags": []
          }
        },
        {
          "output_type": "display_data",
          "data": {
            "image/png": "[encoded data removed]",
            "text/plain": [
              "<Figure size 432x288 with 1 Axes>"
            ]
          },
          "metadata": {
            "tags": []
          }
        }
      ]
    }
  ]
}