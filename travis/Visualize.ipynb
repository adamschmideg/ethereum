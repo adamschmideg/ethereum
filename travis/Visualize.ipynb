{
  "nbformat": 4,
  "nbformat_minor": 0,
  "metadata": {
    "colab": {
      "name": "Visualize.ipynb",
      "provenance": [],
      "collapsed_sections": [],
      "authorship_tag": "ABX9TyPkZ0msyXvrFvSOHfZNvfwd",
      "include_colab_link": true
    },
    "kernelspec": {
      "name": "python3",
      "display_name": "Python 3"
    }
  },
  "cells": [
    {
      "cell_type": "markdown",
      "metadata": {
        "id": "view-in-github",
        "colab_type": "text"
      },
      "source": [
        "<a href=\"https://colab.research.google.com/github/adamschmideg/ethereum/blob/master/travis/Visualize.ipynb\" target=\"_parent\"><img src=\"https://colab.research.google.com/assets/colab-badge.svg\" alt=\"Open In Colab\"/></a>"
      ]
    },
    {
      "cell_type": "code",
      "metadata": {
        "id": "1nTsVheGnX50",
        "colab_type": "code",
        "colab": {}
      },
      "source": [
        "import pandas as pd\n",
        "url = \"https://raw.githubusercontent.com/adamschmideg/ethereum/master/travis/data/\"\n",
        "builds = pd.read_csv(url + \"builds.csv\")\n",
        "jobs = pd.read_csv(url + \"jobs.csv\")\n",
        "failures = pd.read_csv(url + \"failures.csv\")"
      ],
      "execution_count": 0,
      "outputs": []
    },
    {
      "cell_type": "code",
      "metadata": {
        "id": "ojMeJ_7aoQ-M",
        "colab_type": "code",
        "colab": {}
      },
      "source": [
        "bj = pd.merge(builds, jobs, left_on=\"Id\", right_on=\"BuildId\", suffixes=(\"_Build\", \"_Job\"))\n",
        "full = pd.merge(bj, failures, left_on=\"Id_Job\", right_on=\"JobId\")"
      ],
      "execution_count": 0,
      "outputs": []
    },
    {
      "cell_type": "markdown",
      "metadata": {
        "id": "K7OLI00TQua9",
        "colab_type": "text"
      },
      "source": [
        "Filter rows with a failed job that belong to builds where it was pushed to master"
      ]
    },
    {
      "cell_type": "code",
      "metadata": {
        "id": "BFd-scg2QSaL",
        "colab_type": "code",
        "colab": {}
      },
      "source": [
        "cutoff_date = '2020-03-03'\n"
      ],
      "execution_count": 0,
      "outputs": []
    },
    {
      "cell_type": "code",
      "metadata": {
        "id": "rPjDgsI5Crd1",
        "colab_type": "code",
        "colab": {}
      },
      "source": [
        "df = full[['Test', 'PullRequestNumber']].groupby(by='Test').nunique()\n",
        "not_one_pr = df[df.PullRequestNumber.ne(1)].Test.keys().values\n"
      ],
      "execution_count": 0,
      "outputs": []
    },
    {
      "cell_type": "code",
      "metadata": {
        "id": "KznSH_sDJAxL",
        "colab_type": "code",
        "colab": {
          "base_uri": "https://localhost:8080/",
          "height": 979
        },
        "outputId": "829d06b2-4137-4f83-af29-661269cc3ef8"
      },
      "source": [
        "with_tests = full[full.Test.isin(not_one_pr)]\n",
        "filtered = with_tests[with_tests.State_Job.eq('failed') & with_tests.StartedAt_Build.gt(cutoff_date)]\n",
        "cols = filtered[['Package', 'Test', 'Id_Job']]\n",
        "cols.groupby(['Test', 'Package']).count().sort_values(by=['Id_Job'], ascending=False)"
      ],
      "execution_count": 22,
      "outputs": [
        {
          "output_type": "execute_result",
          "data": {
            "text/html": [
              "<div>\n",
              "<style scoped>\n",
              "    .dataframe tbody tr th:only-of-type {\n",
              "        vertical-align: middle;\n",
              "    }\n",
              "\n",
              "    .dataframe tbody tr th {\n",
              "        vertical-align: top;\n",
              "    }\n",
              "\n",
              "    .dataframe thead th {\n",
              "        text-align: right;\n",
              "    }\n",
              "</style>\n",
              "<table border=\"1\" class=\"dataframe\">\n",
              "  <thead>\n",
              "    <tr style=\"text-align: right;\">\n",
              "      <th></th>\n",
              "      <th></th>\n",
              "      <th>Id_Job</th>\n",
              "    </tr>\n",
              "    <tr>\n",
              "      <th>Test</th>\n",
              "      <th>Package</th>\n",
              "      <th></th>\n",
              "    </tr>\n",
              "  </thead>\n",
              "  <tbody>\n",
              "    <tr>\n",
              "      <th>TestHandshake</th>\n",
              "      <th>les</th>\n",
              "      <td>7</td>\n",
              "    </tr>\n",
              "    <tr>\n",
              "      <th>TestTimerFunc</th>\n",
              "      <th>metrics</th>\n",
              "      <td>6</td>\n",
              "    </tr>\n",
              "    <tr>\n",
              "      <th>TestBroadcastBlock</th>\n",
              "      <th>eth</th>\n",
              "      <td>5</td>\n",
              "    </tr>\n",
              "    <tr>\n",
              "      <th>TestOdrGetReceiptsLes2</th>\n",
              "      <th>light</th>\n",
              "      <td>4</td>\n",
              "    </tr>\n",
              "    <tr>\n",
              "      <th>TestOdrGetBlockLes2</th>\n",
              "      <th>light</th>\n",
              "      <td>4</td>\n",
              "    </tr>\n",
              "    <tr>\n",
              "      <th>TestOdrContractCallLes2</th>\n",
              "      <th>light</th>\n",
              "      <td>4</td>\n",
              "    </tr>\n",
              "    <tr>\n",
              "      <th>TestOdrAccountsLes2</th>\n",
              "      <th>light</th>\n",
              "      <td>4</td>\n",
              "    </tr>\n",
              "    <tr>\n",
              "      <th>TestBoundedForkedSync63Fast</th>\n",
              "      <th>eth/downloader</th>\n",
              "      <td>3</td>\n",
              "    </tr>\n",
              "    <tr>\n",
              "      <th>TestSimulation</th>\n",
              "      <th>whisper/whisperv6</th>\n",
              "      <td>3</td>\n",
              "    </tr>\n",
              "    <tr>\n",
              "      <th>TestClientPoolL40C200P30</th>\n",
              "      <th>les</th>\n",
              "      <td>3</td>\n",
              "    </tr>\n",
              "    <tr>\n",
              "      <th>TestOdrContractCallLes2</th>\n",
              "      <th>les</th>\n",
              "      <td>3</td>\n",
              "    </tr>\n",
              "    <tr>\n",
              "      <th>TestWalletNotifications</th>\n",
              "      <th>accounts/keystore</th>\n",
              "      <td>2</td>\n",
              "    </tr>\n",
              "    <tr>\n",
              "      <th>TestInvalidNumberAnnouncement62</th>\n",
              "      <th>eth/fetcher</th>\n",
              "      <td>2</td>\n",
              "    </tr>\n",
              "    <tr>\n",
              "      <th>TestHTTPNodeRPC</th>\n",
              "      <th>p2p/simulations</th>\n",
              "      <td>2</td>\n",
              "    </tr>\n",
              "    <tr>\n",
              "      <th>TestFakedSyncProgress62</th>\n",
              "      <th>eth/downloader</th>\n",
              "      <td>2</td>\n",
              "    </tr>\n",
              "    <tr>\n",
              "      <th>TestCheckpointChallenge</th>\n",
              "      <th>eth</th>\n",
              "      <td>2</td>\n",
              "    </tr>\n",
              "    <tr>\n",
              "      <th>TestBoundedHeavyForkedSync64Fast</th>\n",
              "      <th>eth/downloader</th>\n",
              "      <td>2</td>\n",
              "    </tr>\n",
              "    <tr>\n",
              "      <th>TestBoundedHeavyForkedSync63Fast</th>\n",
              "      <th>eth/downloader</th>\n",
              "      <td>2</td>\n",
              "    </tr>\n",
              "    <tr>\n",
              "      <th>TestBoundedForkedSync64Fast</th>\n",
              "      <th>eth/downloader</th>\n",
              "      <td>1</td>\n",
              "    </tr>\n",
              "    <tr>\n",
              "      <th>TestHTTPAttachWelcome</th>\n",
              "      <th>cmd/geth</th>\n",
              "      <td>1</td>\n",
              "    </tr>\n",
              "    <tr>\n",
              "      <th>TestFreezerBasicsClosing</th>\n",
              "      <th>core/rawdb</th>\n",
              "      <td>1</td>\n",
              "    </tr>\n",
              "    <tr>\n",
              "      <th>TestMessageSeal</th>\n",
              "      <th>whisper/whisperv6</th>\n",
              "      <td>1</td>\n",
              "    </tr>\n",
              "    <tr>\n",
              "      <th>TestFakedSyncProgress63Full</th>\n",
              "      <th>eth/downloader</th>\n",
              "      <td>1</td>\n",
              "    </tr>\n",
              "    <tr>\n",
              "      <th>TestCustomGenesis</th>\n",
              "      <th>cmd/geth</th>\n",
              "      <td>1</td>\n",
              "    </tr>\n",
              "    <tr>\n",
              "      <th>TestCodeAccessLes2</th>\n",
              "      <th>les</th>\n",
              "      <td>1</td>\n",
              "    </tr>\n",
              "    <tr>\n",
              "      <th>TestClientCancelIPC</th>\n",
              "      <th>rpc</th>\n",
              "      <td>1</td>\n",
              "    </tr>\n",
              "    <tr>\n",
              "      <th>TestReceiptsAccessLes2</th>\n",
              "      <th>les</th>\n",
              "      <td>1</td>\n",
              "    </tr>\n",
              "    <tr>\n",
              "      <th>TestWSAttachWelcome</th>\n",
              "      <th>cmd/geth</th>\n",
              "      <td>1</td>\n",
              "    </tr>\n",
              "    <tr>\n",
              "      <th>TestWatchNewFile</th>\n",
              "      <th>accounts/keystore</th>\n",
              "      <td>1</td>\n",
              "    </tr>\n",
              "  </tbody>\n",
              "</table>\n",
              "</div>"
            ],
            "text/plain": [
              "                                                    Id_Job\n",
              "Test                             Package                  \n",
              "TestHandshake                    les                     7\n",
              "TestTimerFunc                    metrics                 6\n",
              "TestBroadcastBlock               eth                     5\n",
              "TestOdrGetReceiptsLes2           light                   4\n",
              "TestOdrGetBlockLes2              light                   4\n",
              "TestOdrContractCallLes2          light                   4\n",
              "TestOdrAccountsLes2              light                   4\n",
              "TestBoundedForkedSync63Fast      eth/downloader          3\n",
              "TestSimulation                   whisper/whisperv6       3\n",
              "TestClientPoolL40C200P30         les                     3\n",
              "TestOdrContractCallLes2          les                     3\n",
              "TestWalletNotifications          accounts/keystore       2\n",
              "TestInvalidNumberAnnouncement62  eth/fetcher             2\n",
              "TestHTTPNodeRPC                  p2p/simulations         2\n",
              "TestFakedSyncProgress62          eth/downloader          2\n",
              "TestCheckpointChallenge          eth                     2\n",
              "TestBoundedHeavyForkedSync64Fast eth/downloader          2\n",
              "TestBoundedHeavyForkedSync63Fast eth/downloader          2\n",
              "TestBoundedForkedSync64Fast      eth/downloader          1\n",
              "TestHTTPAttachWelcome            cmd/geth                1\n",
              "TestFreezerBasicsClosing         core/rawdb              1\n",
              "TestMessageSeal                  whisper/whisperv6       1\n",
              "TestFakedSyncProgress63Full      eth/downloader          1\n",
              "TestCustomGenesis                cmd/geth                1\n",
              "TestCodeAccessLes2               les                     1\n",
              "TestClientCancelIPC              rpc                     1\n",
              "TestReceiptsAccessLes2           les                     1\n",
              "TestWSAttachWelcome              cmd/geth                1\n",
              "TestWatchNewFile                 accounts/keystore       1"
            ]
          },
          "metadata": {
            "tags": []
          },
          "execution_count": 22
        }
      ]
    }
  ]
}