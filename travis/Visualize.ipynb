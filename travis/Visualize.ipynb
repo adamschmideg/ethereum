{
  "nbformat": 4,
  "nbformat_minor": 0,
  "metadata": {
    "colab": {
      "name": "Visualize.ipynb",
      "provenance": [],
      "collapsed_sections": [],
      "authorship_tag": "ABX9TyORAHdTgUWt7q1RMId8Nym8",
      "include_colab_link": true
    },
    "kernelspec": {
      "name": "python3",
      "display_name": "Python 3"
    }
  },
  "cells": [
    {
      "cell_type": "markdown",
      "metadata": {
        "id": "view-in-github",
        "colab_type": "text"
      },
      "source": [
        "<a href=\"https://colab.research.google.com/github/adamschmideg/ethereum/blob/master/travis/Visualize.ipynb\" target=\"_parent\"><img src=\"https://colab.research.google.com/assets/colab-badge.svg\" alt=\"Open In Colab\"/></a>"
      ]
    },
    {
      "cell_type": "code",
      "metadata": {
        "id": "1nTsVheGnX50",
        "colab_type": "code",
        "colab": {}
      },
      "source": [
        "import pandas as pd\n",
        "url = \"https://raw.githubusercontent.com/adamschmideg/ethereum/master/travis/data/\"\n",
        "builds = pd.read_csv(url + \"builds.csv\")\n",
        "jobs = pd.read_csv(url + \"jobs.csv\")\n",
        "failures = pd.read_csv(url + \"failures.csv\")"
      ],
      "execution_count": 0,
      "outputs": []
    },
    {
      "cell_type": "code",
      "metadata": {
        "id": "ojMeJ_7aoQ-M",
        "colab_type": "code",
        "colab": {}
      },
      "source": [
        "bj = pd.merge(builds, jobs, left_on=\"Id\", right_on=\"BuildId\", suffixes=(\"_Build\", \"_Job\"))\n",
        "full = pd.merge(bj, failures, left_on=\"Id_Job\", right_on=\"JobId\")"
      ],
      "execution_count": 0,
      "outputs": []
    },
    {
      "cell_type": "markdown",
      "metadata": {
        "id": "K7OLI00TQua9",
        "colab_type": "text"
      },
      "source": [
        "Filter rows with a failed job that belong to builds where it was pushed to master"
      ]
    },
    {
      "cell_type": "code",
      "metadata": {
        "id": "BFd-scg2QSaL",
        "colab_type": "code",
        "colab": {
          "base_uri": "https://localhost:8080/",
          "height": 359
        },
        "outputId": "c5b8bcb6-197a-4e57-f6d2-cd406081c5ef"
      },
      "source": [
        "cutoff_date = '2020-02-30'\n",
        "filtered = full[full.EventType.eq('push') & full.State_Job.eq('failed') & full.StartedAt_Build.gt(cutoff_date)]\n",
        "filtered[['Package', 'Test']]"
      ],
      "execution_count": 7,
      "outputs": [
        {
          "output_type": "execute_result",
          "data": {
            "text/html": [
              "<div>\n",
              "<style scoped>\n",
              "    .dataframe tbody tr th:only-of-type {\n",
              "        vertical-align: middle;\n",
              "    }\n",
              "\n",
              "    .dataframe tbody tr th {\n",
              "        vertical-align: top;\n",
              "    }\n",
              "\n",
              "    .dataframe thead th {\n",
              "        text-align: right;\n",
              "    }\n",
              "</style>\n",
              "<table border=\"1\" class=\"dataframe\">\n",
              "  <thead>\n",
              "    <tr style=\"text-align: right;\">\n",
              "      <th></th>\n",
              "      <th>Package</th>\n",
              "      <th>Test</th>\n",
              "    </tr>\n",
              "  </thead>\n",
              "  <tbody>\n",
              "    <tr>\n",
              "      <th>2</th>\n",
              "      <td>les</td>\n",
              "      <td>TestHandshake</td>\n",
              "    </tr>\n",
              "    <tr>\n",
              "      <th>3</th>\n",
              "      <td>eth/downloader</td>\n",
              "      <td>TestFakedSyncProgress62</td>\n",
              "    </tr>\n",
              "    <tr>\n",
              "      <th>4</th>\n",
              "      <td>les</td>\n",
              "      <td>TestClientPoolL10C100P4</td>\n",
              "    </tr>\n",
              "    <tr>\n",
              "      <th>5</th>\n",
              "      <td>les</td>\n",
              "      <td>TestClientPoolL40C200P30</td>\n",
              "    </tr>\n",
              "    <tr>\n",
              "      <th>38</th>\n",
              "      <td>eth</td>\n",
              "      <td>TestBroadcastBlock</td>\n",
              "    </tr>\n",
              "    <tr>\n",
              "      <th>39</th>\n",
              "      <td>les</td>\n",
              "      <td>TestClientPoolL10C100P4</td>\n",
              "    </tr>\n",
              "    <tr>\n",
              "      <th>40</th>\n",
              "      <td>les</td>\n",
              "      <td>TestClientPoolL40C200P30</td>\n",
              "    </tr>\n",
              "    <tr>\n",
              "      <th>49</th>\n",
              "      <td>accounts/keystore</td>\n",
              "      <td>TestWalletNotifications</td>\n",
              "    </tr>\n",
              "    <tr>\n",
              "      <th>50</th>\n",
              "      <td>les</td>\n",
              "      <td>TestOdrContractCallLes2</td>\n",
              "    </tr>\n",
              "    <tr>\n",
              "      <th>60</th>\n",
              "      <td>eth</td>\n",
              "      <td>TestCheckpointChallenge</td>\n",
              "    </tr>\n",
              "  </tbody>\n",
              "</table>\n",
              "</div>"
            ],
            "text/plain": [
              "              Package                      Test\n",
              "2                 les             TestHandshake\n",
              "3      eth/downloader   TestFakedSyncProgress62\n",
              "4                 les   TestClientPoolL10C100P4\n",
              "5                 les  TestClientPoolL40C200P30\n",
              "38                eth        TestBroadcastBlock\n",
              "39                les   TestClientPoolL10C100P4\n",
              "40                les  TestClientPoolL40C200P30\n",
              "49  accounts/keystore   TestWalletNotifications\n",
              "50                les   TestOdrContractCallLes2\n",
              "60                eth   TestCheckpointChallenge"
            ]
          },
          "metadata": {
            "tags": []
          },
          "execution_count": 7
        }
      ]
    }
  ]
}